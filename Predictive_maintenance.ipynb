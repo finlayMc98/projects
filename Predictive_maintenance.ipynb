{
 "cells": [
  {
   "cell_type": "code",
   "execution_count": 79,
   "id": "dutch-texture",
   "metadata": {},
   "outputs": [],
   "source": [
    "import pandas as pd\n",
    "import numpy as np\n",
    "import seaborn as sns \n",
    "import matplotlib.pyplot as plt\n",
    "from sklearn import preprocessing \n",
    "import itertools\n",
    "from imblearn.over_sampling import SMOTE"
   ]
  },
  {
   "cell_type": "code",
   "execution_count": 54,
   "id": "vietnamese-pollution",
   "metadata": {},
   "outputs": [],
   "source": [
    "df_measure = pd.read_csv('measurements.csv', parse_dates=['measurement_time'])\n",
    "df_measure = df_measure.sort_values(by=['measurement_time'], ascending=[True])\n",
    "\n",
    "df_failure = pd.read_csv('failures.csv', parse_dates=['failure_time'])\n",
    "df_failure = df_failure.sort_values(by=['failure_time'], ascending=[True])"
   ]
  },
  {
   "cell_type": "code",
   "execution_count": 55,
   "id": "private-procurement",
   "metadata": {},
   "outputs": [
    {
     "data": {
      "text/html": [
       "<div>\n",
       "<style scoped>\n",
       "    .dataframe tbody tr th:only-of-type {\n",
       "        vertical-align: middle;\n",
       "    }\n",
       "\n",
       "    .dataframe tbody tr th {\n",
       "        vertical-align: top;\n",
       "    }\n",
       "\n",
       "    .dataframe thead th {\n",
       "        text-align: right;\n",
       "    }\n",
       "</style>\n",
       "<table border=\"1\" class=\"dataframe\">\n",
       "  <thead>\n",
       "    <tr style=\"text-align: right;\">\n",
       "      <th></th>\n",
       "      <th>measurement_time</th>\n",
       "      <th>gadget_id</th>\n",
       "      <th>vibration_x</th>\n",
       "      <th>vibration_y</th>\n",
       "      <th>pressure</th>\n",
       "      <th>temperature</th>\n",
       "      <th>Unnamed: 10</th>\n",
       "      <th>Unnamed: 11</th>\n",
       "    </tr>\n",
       "  </thead>\n",
       "  <tbody>\n",
       "    <tr>\n",
       "      <th>0</th>\n",
       "      <td>2020-07-15 00:00:00.000</td>\n",
       "      <td>1</td>\n",
       "      <td>3</td>\n",
       "      <td>7</td>\n",
       "      <td>16.0</td>\n",
       "      <td>44.114437</td>\n",
       "      <td>NaN</td>\n",
       "      <td>NaN</td>\n",
       "    </tr>\n",
       "    <tr>\n",
       "      <th>336</th>\n",
       "      <td>2020-07-15 00:00:00.000</td>\n",
       "      <td>3</td>\n",
       "      <td>3</td>\n",
       "      <td>8</td>\n",
       "      <td>11.0</td>\n",
       "      <td>40.427740</td>\n",
       "      <td>NaN</td>\n",
       "      <td>NaN</td>\n",
       "    </tr>\n",
       "    <tr>\n",
       "      <th>168</th>\n",
       "      <td>2020-07-15 00:00:00.000</td>\n",
       "      <td>2</td>\n",
       "      <td>3</td>\n",
       "      <td>10</td>\n",
       "      <td>16.0</td>\n",
       "      <td>22.300000</td>\n",
       "      <td>NaN</td>\n",
       "      <td>NaN</td>\n",
       "    </tr>\n",
       "    <tr>\n",
       "      <th>840</th>\n",
       "      <td>2020-07-15 00:00:00.000</td>\n",
       "      <td>6</td>\n",
       "      <td>7</td>\n",
       "      <td>6</td>\n",
       "      <td>12.0</td>\n",
       "      <td>75.874521</td>\n",
       "      <td>NaN</td>\n",
       "      <td>NaN</td>\n",
       "    </tr>\n",
       "    <tr>\n",
       "      <th>672</th>\n",
       "      <td>2020-07-15 00:00:00.000</td>\n",
       "      <td>5</td>\n",
       "      <td>4</td>\n",
       "      <td>7</td>\n",
       "      <td>12.0</td>\n",
       "      <td>81.125342</td>\n",
       "      <td>NaN</td>\n",
       "      <td>NaN</td>\n",
       "    </tr>\n",
       "    <tr>\n",
       "      <th>...</th>\n",
       "      <td>...</td>\n",
       "      <td>...</td>\n",
       "      <td>...</td>\n",
       "      <td>...</td>\n",
       "      <td>...</td>\n",
       "      <td>...</td>\n",
       "      <td>...</td>\n",
       "      <td>...</td>\n",
       "    </tr>\n",
       "    <tr>\n",
       "      <th>671</th>\n",
       "      <td>2020-07-21 22:59:59.505</td>\n",
       "      <td>4</td>\n",
       "      <td>6</td>\n",
       "      <td>6</td>\n",
       "      <td>19.0</td>\n",
       "      <td>85.023812</td>\n",
       "      <td>NaN</td>\n",
       "      <td>NaN</td>\n",
       "    </tr>\n",
       "    <tr>\n",
       "      <th>335</th>\n",
       "      <td>2020-07-21 22:59:59.505</td>\n",
       "      <td>2</td>\n",
       "      <td>2</td>\n",
       "      <td>4</td>\n",
       "      <td>15.0</td>\n",
       "      <td>42.221386</td>\n",
       "      <td>NaN</td>\n",
       "      <td>NaN</td>\n",
       "    </tr>\n",
       "    <tr>\n",
       "      <th>167</th>\n",
       "      <td>2020-07-21 22:59:59.505</td>\n",
       "      <td>1</td>\n",
       "      <td>6</td>\n",
       "      <td>5</td>\n",
       "      <td>12.0</td>\n",
       "      <td>11.773688</td>\n",
       "      <td>NaN</td>\n",
       "      <td>NaN</td>\n",
       "    </tr>\n",
       "    <tr>\n",
       "      <th>839</th>\n",
       "      <td>2020-07-21 22:59:59.505</td>\n",
       "      <td>5</td>\n",
       "      <td>1</td>\n",
       "      <td>2</td>\n",
       "      <td>19.0</td>\n",
       "      <td>78.867472</td>\n",
       "      <td>NaN</td>\n",
       "      <td>NaN</td>\n",
       "    </tr>\n",
       "    <tr>\n",
       "      <th>1007</th>\n",
       "      <td>2020-07-21 22:59:59.505</td>\n",
       "      <td>6</td>\n",
       "      <td>4</td>\n",
       "      <td>4</td>\n",
       "      <td>19.0</td>\n",
       "      <td>80.604887</td>\n",
       "      <td>NaN</td>\n",
       "      <td>NaN</td>\n",
       "    </tr>\n",
       "  </tbody>\n",
       "</table>\n",
       "<p>1008 rows × 8 columns</p>\n",
       "</div>"
      ],
      "text/plain": [
       "            measurement_time  gadget_id  vibration_x  vibration_y  pressure  \\\n",
       "0    2020-07-15 00:00:00.000          1            3            7      16.0   \n",
       "336  2020-07-15 00:00:00.000          3            3            8      11.0   \n",
       "168  2020-07-15 00:00:00.000          2            3           10      16.0   \n",
       "840  2020-07-15 00:00:00.000          6            7            6      12.0   \n",
       "672  2020-07-15 00:00:00.000          5            4            7      12.0   \n",
       "...                      ...        ...          ...          ...       ...   \n",
       "671  2020-07-21 22:59:59.505          4            6            6      19.0   \n",
       "335  2020-07-21 22:59:59.505          2            2            4      15.0   \n",
       "167  2020-07-21 22:59:59.505          1            6            5      12.0   \n",
       "839  2020-07-21 22:59:59.505          5            1            2      19.0   \n",
       "1007 2020-07-21 22:59:59.505          6            4            4      19.0   \n",
       "\n",
       "      temperature  Unnamed: 10  Unnamed: 11  \n",
       "0       44.114437          NaN          NaN  \n",
       "336     40.427740          NaN          NaN  \n",
       "168     22.300000          NaN          NaN  \n",
       "840     75.874521          NaN          NaN  \n",
       "672     81.125342          NaN          NaN  \n",
       "...           ...          ...          ...  \n",
       "671     85.023812          NaN          NaN  \n",
       "335     42.221386          NaN          NaN  \n",
       "167     11.773688          NaN          NaN  \n",
       "839     78.867472          NaN          NaN  \n",
       "1007    80.604887          NaN          NaN  \n",
       "\n",
       "[1008 rows x 8 columns]"
      ]
     },
     "execution_count": 55,
     "metadata": {},
     "output_type": "execute_result"
    }
   ],
   "source": [
    "df_measure"
   ]
  },
  {
   "cell_type": "code",
   "execution_count": 56,
   "id": "colonial-connecticut",
   "metadata": {},
   "outputs": [
    {
     "data": {
      "text/html": [
       "<div>\n",
       "<style scoped>\n",
       "    .dataframe tbody tr th:only-of-type {\n",
       "        vertical-align: middle;\n",
       "    }\n",
       "\n",
       "    .dataframe tbody tr th {\n",
       "        vertical-align: top;\n",
       "    }\n",
       "\n",
       "    .dataframe thead th {\n",
       "        text-align: right;\n",
       "    }\n",
       "</style>\n",
       "<table border=\"1\" class=\"dataframe\">\n",
       "  <thead>\n",
       "    <tr style=\"text-align: right;\">\n",
       "      <th></th>\n",
       "      <th>failure_time</th>\n",
       "      <th>gadget_id</th>\n",
       "    </tr>\n",
       "  </thead>\n",
       "  <tbody>\n",
       "    <tr>\n",
       "      <th>52</th>\n",
       "      <td>2020-07-15 05:31:44.776014200</td>\n",
       "      <td>4</td>\n",
       "    </tr>\n",
       "    <tr>\n",
       "      <th>72</th>\n",
       "      <td>2020-07-15 05:48:58.383388460</td>\n",
       "      <td>5</td>\n",
       "    </tr>\n",
       "    <tr>\n",
       "      <th>53</th>\n",
       "      <td>2020-07-15 06:42:44.569051620</td>\n",
       "      <td>4</td>\n",
       "    </tr>\n",
       "    <tr>\n",
       "      <th>14</th>\n",
       "      <td>2020-07-15 07:11:50.319233260</td>\n",
       "      <td>2</td>\n",
       "    </tr>\n",
       "    <tr>\n",
       "      <th>39</th>\n",
       "      <td>2020-07-15 09:33:48.330967860</td>\n",
       "      <td>3</td>\n",
       "    </tr>\n",
       "    <tr>\n",
       "      <th>...</th>\n",
       "      <td>...</td>\n",
       "      <td>...</td>\n",
       "    </tr>\n",
       "    <tr>\n",
       "      <th>36</th>\n",
       "      <td>2020-07-21 19:52:01.522438500</td>\n",
       "      <td>2</td>\n",
       "    </tr>\n",
       "    <tr>\n",
       "      <th>37</th>\n",
       "      <td>2020-07-21 20:05:33.261016380</td>\n",
       "      <td>2</td>\n",
       "    </tr>\n",
       "    <tr>\n",
       "      <th>103</th>\n",
       "      <td>2020-07-21 21:55:15.463450739</td>\n",
       "      <td>6</td>\n",
       "    </tr>\n",
       "    <tr>\n",
       "      <th>38</th>\n",
       "      <td>2020-07-21 22:05:37.296131340</td>\n",
       "      <td>2</td>\n",
       "    </tr>\n",
       "    <tr>\n",
       "      <th>104</th>\n",
       "      <td>2020-07-21 22:09:51.002875980</td>\n",
       "      <td>6</td>\n",
       "    </tr>\n",
       "  </tbody>\n",
       "</table>\n",
       "<p>105 rows × 2 columns</p>\n",
       "</div>"
      ],
      "text/plain": [
       "                     failure_time  gadget_id\n",
       "52  2020-07-15 05:31:44.776014200          4\n",
       "72  2020-07-15 05:48:58.383388460          5\n",
       "53  2020-07-15 06:42:44.569051620          4\n",
       "14  2020-07-15 07:11:50.319233260          2\n",
       "39  2020-07-15 09:33:48.330967860          3\n",
       "..                            ...        ...\n",
       "36  2020-07-21 19:52:01.522438500          2\n",
       "37  2020-07-21 20:05:33.261016380          2\n",
       "103 2020-07-21 21:55:15.463450739          6\n",
       "38  2020-07-21 22:05:37.296131340          2\n",
       "104 2020-07-21 22:09:51.002875980          6\n",
       "\n",
       "[105 rows x 2 columns]"
      ]
     },
     "execution_count": 56,
     "metadata": {},
     "output_type": "execute_result"
    }
   ],
   "source": [
    "df_failure"
   ]
  },
  {
   "cell_type": "code",
   "execution_count": 57,
   "id": "flying-state",
   "metadata": {},
   "outputs": [
    {
     "data": {
      "text/html": [
       "<div>\n",
       "<style scoped>\n",
       "    .dataframe tbody tr th:only-of-type {\n",
       "        vertical-align: middle;\n",
       "    }\n",
       "\n",
       "    .dataframe tbody tr th {\n",
       "        vertical-align: top;\n",
       "    }\n",
       "\n",
       "    .dataframe thead th {\n",
       "        text-align: right;\n",
       "    }\n",
       "</style>\n",
       "<table border=\"1\" class=\"dataframe\">\n",
       "  <thead>\n",
       "    <tr style=\"text-align: right;\">\n",
       "      <th></th>\n",
       "      <th>measurement_time</th>\n",
       "      <th>gadget_id</th>\n",
       "      <th>vibration_x</th>\n",
       "      <th>vibration_y</th>\n",
       "      <th>pressure</th>\n",
       "      <th>temperature</th>\n",
       "      <th>Unnamed: 10</th>\n",
       "      <th>Unnamed: 11</th>\n",
       "      <th>failure_time</th>\n",
       "    </tr>\n",
       "  </thead>\n",
       "  <tbody>\n",
       "    <tr>\n",
       "      <th>0</th>\n",
       "      <td>2020-07-15 00:00:00.000</td>\n",
       "      <td>1</td>\n",
       "      <td>3</td>\n",
       "      <td>7</td>\n",
       "      <td>16.0</td>\n",
       "      <td>44.114437</td>\n",
       "      <td>NaN</td>\n",
       "      <td>NaN</td>\n",
       "      <td>2020-07-15 09:56:03.974006640</td>\n",
       "    </tr>\n",
       "    <tr>\n",
       "      <th>1</th>\n",
       "      <td>2020-07-15 00:00:00.000</td>\n",
       "      <td>3</td>\n",
       "      <td>3</td>\n",
       "      <td>8</td>\n",
       "      <td>11.0</td>\n",
       "      <td>40.427740</td>\n",
       "      <td>NaN</td>\n",
       "      <td>NaN</td>\n",
       "      <td>2020-07-15 09:33:48.330967860</td>\n",
       "    </tr>\n",
       "    <tr>\n",
       "      <th>2</th>\n",
       "      <td>2020-07-15 00:00:00.000</td>\n",
       "      <td>2</td>\n",
       "      <td>3</td>\n",
       "      <td>10</td>\n",
       "      <td>16.0</td>\n",
       "      <td>22.300000</td>\n",
       "      <td>NaN</td>\n",
       "      <td>NaN</td>\n",
       "      <td>2020-07-15 07:11:50.319233260</td>\n",
       "    </tr>\n",
       "    <tr>\n",
       "      <th>3</th>\n",
       "      <td>2020-07-15 00:00:00.000</td>\n",
       "      <td>6</td>\n",
       "      <td>7</td>\n",
       "      <td>6</td>\n",
       "      <td>12.0</td>\n",
       "      <td>75.874521</td>\n",
       "      <td>NaN</td>\n",
       "      <td>NaN</td>\n",
       "      <td>2020-07-16 16:05:31.427141800</td>\n",
       "    </tr>\n",
       "    <tr>\n",
       "      <th>4</th>\n",
       "      <td>2020-07-15 00:00:00.000</td>\n",
       "      <td>5</td>\n",
       "      <td>4</td>\n",
       "      <td>7</td>\n",
       "      <td>12.0</td>\n",
       "      <td>81.125342</td>\n",
       "      <td>NaN</td>\n",
       "      <td>NaN</td>\n",
       "      <td>2020-07-15 05:48:58.383388460</td>\n",
       "    </tr>\n",
       "    <tr>\n",
       "      <th>...</th>\n",
       "      <td>...</td>\n",
       "      <td>...</td>\n",
       "      <td>...</td>\n",
       "      <td>...</td>\n",
       "      <td>...</td>\n",
       "      <td>...</td>\n",
       "      <td>...</td>\n",
       "      <td>...</td>\n",
       "      <td>...</td>\n",
       "    </tr>\n",
       "    <tr>\n",
       "      <th>1003</th>\n",
       "      <td>2020-07-21 22:59:59.505</td>\n",
       "      <td>4</td>\n",
       "      <td>6</td>\n",
       "      <td>6</td>\n",
       "      <td>19.0</td>\n",
       "      <td>85.023812</td>\n",
       "      <td>NaN</td>\n",
       "      <td>NaN</td>\n",
       "      <td>NaT</td>\n",
       "    </tr>\n",
       "    <tr>\n",
       "      <th>1004</th>\n",
       "      <td>2020-07-21 22:59:59.505</td>\n",
       "      <td>2</td>\n",
       "      <td>2</td>\n",
       "      <td>4</td>\n",
       "      <td>15.0</td>\n",
       "      <td>42.221386</td>\n",
       "      <td>NaN</td>\n",
       "      <td>NaN</td>\n",
       "      <td>NaT</td>\n",
       "    </tr>\n",
       "    <tr>\n",
       "      <th>1005</th>\n",
       "      <td>2020-07-21 22:59:59.505</td>\n",
       "      <td>1</td>\n",
       "      <td>6</td>\n",
       "      <td>5</td>\n",
       "      <td>12.0</td>\n",
       "      <td>11.773688</td>\n",
       "      <td>NaN</td>\n",
       "      <td>NaN</td>\n",
       "      <td>NaT</td>\n",
       "    </tr>\n",
       "    <tr>\n",
       "      <th>1006</th>\n",
       "      <td>2020-07-21 22:59:59.505</td>\n",
       "      <td>5</td>\n",
       "      <td>1</td>\n",
       "      <td>2</td>\n",
       "      <td>19.0</td>\n",
       "      <td>78.867472</td>\n",
       "      <td>NaN</td>\n",
       "      <td>NaN</td>\n",
       "      <td>NaT</td>\n",
       "    </tr>\n",
       "    <tr>\n",
       "      <th>1007</th>\n",
       "      <td>2020-07-21 22:59:59.505</td>\n",
       "      <td>6</td>\n",
       "      <td>4</td>\n",
       "      <td>4</td>\n",
       "      <td>19.0</td>\n",
       "      <td>80.604887</td>\n",
       "      <td>NaN</td>\n",
       "      <td>NaN</td>\n",
       "      <td>NaT</td>\n",
       "    </tr>\n",
       "  </tbody>\n",
       "</table>\n",
       "<p>1008 rows × 9 columns</p>\n",
       "</div>"
      ],
      "text/plain": [
       "            measurement_time  gadget_id  vibration_x  vibration_y  pressure  \\\n",
       "0    2020-07-15 00:00:00.000          1            3            7      16.0   \n",
       "1    2020-07-15 00:00:00.000          3            3            8      11.0   \n",
       "2    2020-07-15 00:00:00.000          2            3           10      16.0   \n",
       "3    2020-07-15 00:00:00.000          6            7            6      12.0   \n",
       "4    2020-07-15 00:00:00.000          5            4            7      12.0   \n",
       "...                      ...        ...          ...          ...       ...   \n",
       "1003 2020-07-21 22:59:59.505          4            6            6      19.0   \n",
       "1004 2020-07-21 22:59:59.505          2            2            4      15.0   \n",
       "1005 2020-07-21 22:59:59.505          1            6            5      12.0   \n",
       "1006 2020-07-21 22:59:59.505          5            1            2      19.0   \n",
       "1007 2020-07-21 22:59:59.505          6            4            4      19.0   \n",
       "\n",
       "      temperature  Unnamed: 10  Unnamed: 11                  failure_time  \n",
       "0       44.114437          NaN          NaN 2020-07-15 09:56:03.974006640  \n",
       "1       40.427740          NaN          NaN 2020-07-15 09:33:48.330967860  \n",
       "2       22.300000          NaN          NaN 2020-07-15 07:11:50.319233260  \n",
       "3       75.874521          NaN          NaN 2020-07-16 16:05:31.427141800  \n",
       "4       81.125342          NaN          NaN 2020-07-15 05:48:58.383388460  \n",
       "...           ...          ...          ...                           ...  \n",
       "1003    85.023812          NaN          NaN                           NaT  \n",
       "1004    42.221386          NaN          NaN                           NaT  \n",
       "1005    11.773688          NaN          NaN                           NaT  \n",
       "1006    78.867472          NaN          NaN                           NaT  \n",
       "1007    80.604887          NaN          NaN                           NaT  \n",
       "\n",
       "[1008 rows x 9 columns]"
      ]
     },
     "execution_count": 57,
     "metadata": {},
     "output_type": "execute_result"
    }
   ],
   "source": [
    "df_comb = pd.merge_asof(\n",
    "    df_measure,\n",
    "    df_failure,\n",
    "    left_on='measurement_time',\n",
    "    right_on='failure_time',\n",
    "    by='gadget_id',\n",
    "    direction='forward',\n",
    ")\n",
    "df_comb"
   ]
  },
  {
   "cell_type": "code",
   "execution_count": 58,
   "id": "outside-findings",
   "metadata": {},
   "outputs": [],
   "source": [
    "df_comb['time_to_fail'] = df_comb['failure_time']-df_comb['measurement_time']\n",
    "df_comb['fail_in_1h'] = np.where(df_comb['time_to_fail']<pd.Timedelta(hours=1), 1, 0)"
   ]
  },
  {
   "cell_type": "code",
   "execution_count": 59,
   "id": "needed-charm",
   "metadata": {},
   "outputs": [
    {
     "data": {
      "text/html": [
       "<div>\n",
       "<style scoped>\n",
       "    .dataframe tbody tr th:only-of-type {\n",
       "        vertical-align: middle;\n",
       "    }\n",
       "\n",
       "    .dataframe tbody tr th {\n",
       "        vertical-align: top;\n",
       "    }\n",
       "\n",
       "    .dataframe thead th {\n",
       "        text-align: right;\n",
       "    }\n",
       "</style>\n",
       "<table border=\"1\" class=\"dataframe\">\n",
       "  <thead>\n",
       "    <tr style=\"text-align: right;\">\n",
       "      <th></th>\n",
       "      <th>measurement_time</th>\n",
       "      <th>gadget_id</th>\n",
       "      <th>vibration_x</th>\n",
       "      <th>vibration_y</th>\n",
       "      <th>pressure</th>\n",
       "      <th>temperature</th>\n",
       "      <th>Unnamed: 10</th>\n",
       "      <th>Unnamed: 11</th>\n",
       "      <th>failure_time</th>\n",
       "      <th>time_to_fail</th>\n",
       "      <th>fail_in_1h</th>\n",
       "    </tr>\n",
       "  </thead>\n",
       "  <tbody>\n",
       "    <tr>\n",
       "      <th>0</th>\n",
       "      <td>2020-07-15 00:00:00.000</td>\n",
       "      <td>1</td>\n",
       "      <td>3</td>\n",
       "      <td>7</td>\n",
       "      <td>16.0</td>\n",
       "      <td>44.114437</td>\n",
       "      <td>NaN</td>\n",
       "      <td>NaN</td>\n",
       "      <td>2020-07-15 09:56:03.974006640</td>\n",
       "      <td>0 days 09:56:03.974006640</td>\n",
       "      <td>0</td>\n",
       "    </tr>\n",
       "    <tr>\n",
       "      <th>1</th>\n",
       "      <td>2020-07-15 00:00:00.000</td>\n",
       "      <td>3</td>\n",
       "      <td>3</td>\n",
       "      <td>8</td>\n",
       "      <td>11.0</td>\n",
       "      <td>40.427740</td>\n",
       "      <td>NaN</td>\n",
       "      <td>NaN</td>\n",
       "      <td>2020-07-15 09:33:48.330967860</td>\n",
       "      <td>0 days 09:33:48.330967860</td>\n",
       "      <td>0</td>\n",
       "    </tr>\n",
       "    <tr>\n",
       "      <th>2</th>\n",
       "      <td>2020-07-15 00:00:00.000</td>\n",
       "      <td>2</td>\n",
       "      <td>3</td>\n",
       "      <td>10</td>\n",
       "      <td>16.0</td>\n",
       "      <td>22.300000</td>\n",
       "      <td>NaN</td>\n",
       "      <td>NaN</td>\n",
       "      <td>2020-07-15 07:11:50.319233260</td>\n",
       "      <td>0 days 07:11:50.319233260</td>\n",
       "      <td>0</td>\n",
       "    </tr>\n",
       "    <tr>\n",
       "      <th>3</th>\n",
       "      <td>2020-07-15 00:00:00.000</td>\n",
       "      <td>6</td>\n",
       "      <td>7</td>\n",
       "      <td>6</td>\n",
       "      <td>12.0</td>\n",
       "      <td>75.874521</td>\n",
       "      <td>NaN</td>\n",
       "      <td>NaN</td>\n",
       "      <td>2020-07-16 16:05:31.427141800</td>\n",
       "      <td>1 days 16:05:31.427141800</td>\n",
       "      <td>0</td>\n",
       "    </tr>\n",
       "    <tr>\n",
       "      <th>4</th>\n",
       "      <td>2020-07-15 00:00:00.000</td>\n",
       "      <td>5</td>\n",
       "      <td>4</td>\n",
       "      <td>7</td>\n",
       "      <td>12.0</td>\n",
       "      <td>81.125342</td>\n",
       "      <td>NaN</td>\n",
       "      <td>NaN</td>\n",
       "      <td>2020-07-15 05:48:58.383388460</td>\n",
       "      <td>0 days 05:48:58.383388460</td>\n",
       "      <td>0</td>\n",
       "    </tr>\n",
       "    <tr>\n",
       "      <th>...</th>\n",
       "      <td>...</td>\n",
       "      <td>...</td>\n",
       "      <td>...</td>\n",
       "      <td>...</td>\n",
       "      <td>...</td>\n",
       "      <td>...</td>\n",
       "      <td>...</td>\n",
       "      <td>...</td>\n",
       "      <td>...</td>\n",
       "      <td>...</td>\n",
       "      <td>...</td>\n",
       "    </tr>\n",
       "    <tr>\n",
       "      <th>1003</th>\n",
       "      <td>2020-07-21 22:59:59.505</td>\n",
       "      <td>4</td>\n",
       "      <td>6</td>\n",
       "      <td>6</td>\n",
       "      <td>19.0</td>\n",
       "      <td>85.023812</td>\n",
       "      <td>NaN</td>\n",
       "      <td>NaN</td>\n",
       "      <td>NaT</td>\n",
       "      <td>NaT</td>\n",
       "      <td>0</td>\n",
       "    </tr>\n",
       "    <tr>\n",
       "      <th>1004</th>\n",
       "      <td>2020-07-21 22:59:59.505</td>\n",
       "      <td>2</td>\n",
       "      <td>2</td>\n",
       "      <td>4</td>\n",
       "      <td>15.0</td>\n",
       "      <td>42.221386</td>\n",
       "      <td>NaN</td>\n",
       "      <td>NaN</td>\n",
       "      <td>NaT</td>\n",
       "      <td>NaT</td>\n",
       "      <td>0</td>\n",
       "    </tr>\n",
       "    <tr>\n",
       "      <th>1005</th>\n",
       "      <td>2020-07-21 22:59:59.505</td>\n",
       "      <td>1</td>\n",
       "      <td>6</td>\n",
       "      <td>5</td>\n",
       "      <td>12.0</td>\n",
       "      <td>11.773688</td>\n",
       "      <td>NaN</td>\n",
       "      <td>NaN</td>\n",
       "      <td>NaT</td>\n",
       "      <td>NaT</td>\n",
       "      <td>0</td>\n",
       "    </tr>\n",
       "    <tr>\n",
       "      <th>1006</th>\n",
       "      <td>2020-07-21 22:59:59.505</td>\n",
       "      <td>5</td>\n",
       "      <td>1</td>\n",
       "      <td>2</td>\n",
       "      <td>19.0</td>\n",
       "      <td>78.867472</td>\n",
       "      <td>NaN</td>\n",
       "      <td>NaN</td>\n",
       "      <td>NaT</td>\n",
       "      <td>NaT</td>\n",
       "      <td>0</td>\n",
       "    </tr>\n",
       "    <tr>\n",
       "      <th>1007</th>\n",
       "      <td>2020-07-21 22:59:59.505</td>\n",
       "      <td>6</td>\n",
       "      <td>4</td>\n",
       "      <td>4</td>\n",
       "      <td>19.0</td>\n",
       "      <td>80.604887</td>\n",
       "      <td>NaN</td>\n",
       "      <td>NaN</td>\n",
       "      <td>NaT</td>\n",
       "      <td>NaT</td>\n",
       "      <td>0</td>\n",
       "    </tr>\n",
       "  </tbody>\n",
       "</table>\n",
       "<p>1008 rows × 11 columns</p>\n",
       "</div>"
      ],
      "text/plain": [
       "            measurement_time  gadget_id  vibration_x  vibration_y  pressure  \\\n",
       "0    2020-07-15 00:00:00.000          1            3            7      16.0   \n",
       "1    2020-07-15 00:00:00.000          3            3            8      11.0   \n",
       "2    2020-07-15 00:00:00.000          2            3           10      16.0   \n",
       "3    2020-07-15 00:00:00.000          6            7            6      12.0   \n",
       "4    2020-07-15 00:00:00.000          5            4            7      12.0   \n",
       "...                      ...        ...          ...          ...       ...   \n",
       "1003 2020-07-21 22:59:59.505          4            6            6      19.0   \n",
       "1004 2020-07-21 22:59:59.505          2            2            4      15.0   \n",
       "1005 2020-07-21 22:59:59.505          1            6            5      12.0   \n",
       "1006 2020-07-21 22:59:59.505          5            1            2      19.0   \n",
       "1007 2020-07-21 22:59:59.505          6            4            4      19.0   \n",
       "\n",
       "      temperature  Unnamed: 10  Unnamed: 11                  failure_time  \\\n",
       "0       44.114437          NaN          NaN 2020-07-15 09:56:03.974006640   \n",
       "1       40.427740          NaN          NaN 2020-07-15 09:33:48.330967860   \n",
       "2       22.300000          NaN          NaN 2020-07-15 07:11:50.319233260   \n",
       "3       75.874521          NaN          NaN 2020-07-16 16:05:31.427141800   \n",
       "4       81.125342          NaN          NaN 2020-07-15 05:48:58.383388460   \n",
       "...           ...          ...          ...                           ...   \n",
       "1003    85.023812          NaN          NaN                           NaT   \n",
       "1004    42.221386          NaN          NaN                           NaT   \n",
       "1005    11.773688          NaN          NaN                           NaT   \n",
       "1006    78.867472          NaN          NaN                           NaT   \n",
       "1007    80.604887          NaN          NaN                           NaT   \n",
       "\n",
       "                  time_to_fail  fail_in_1h  \n",
       "0    0 days 09:56:03.974006640           0  \n",
       "1    0 days 09:33:48.330967860           0  \n",
       "2    0 days 07:11:50.319233260           0  \n",
       "3    1 days 16:05:31.427141800           0  \n",
       "4    0 days 05:48:58.383388460           0  \n",
       "...                        ...         ...  \n",
       "1003                       NaT           0  \n",
       "1004                       NaT           0  \n",
       "1005                       NaT           0  \n",
       "1006                       NaT           0  \n",
       "1007                       NaT           0  \n",
       "\n",
       "[1008 rows x 11 columns]"
      ]
     },
     "execution_count": 59,
     "metadata": {},
     "output_type": "execute_result"
    }
   ],
   "source": [
    "df_comb"
   ]
  },
  {
   "cell_type": "code",
   "execution_count": 60,
   "id": "every-performer",
   "metadata": {},
   "outputs": [],
   "source": [
    "df_comb = df_comb.reset_index(drop=True)\n",
    "df_comb = df_comb.sort_values(by=['gadget_id', 'measurement_time'], ascending=[True, True])\n",
    "\n",
    "df_comb['temperature_6h_std'] = df_comb.groupby('gadget_id')['temperature'].rolling(6).std(ddof=0).reset_index(drop=True)\n",
    "df_comb['pressure_6h_mean'] = df_comb.groupby('gadget_id')['pressure'].rolling(6).mean().reset_index(drop=True)\n",
    "# dont want to measure specific temps or pressures as different gadget will be made to withstand different values\n",
    "# therefore find how it varies "
   ]
  },
  {
   "cell_type": "code",
   "execution_count": 61,
   "id": "spatial-arctic",
   "metadata": {},
   "outputs": [
    {
     "name": "stdout",
     "output_type": "stream",
     "text": [
      "0    903\n",
      "1    105\n",
      "Name: fail_in_1h, dtype: int64\n"
     ]
    },
    {
     "data": {
      "image/png": "[encoded data removed]",
      "text/plain": [
       "<Figure size 432x288 with 1 Axes>"
      ]
     },
     "metadata": {
      "needs_background": "light"
     },
     "output_type": "display_data"
    }
   ],
   "source": [
    "df_comb.fail_in_1h.value_counts().plot.bar()\n",
    "print(df_comb.fail_in_1h.value_counts())"
   ]
  },
  {
   "cell_type": "code",
   "execution_count": 62,
   "id": "sporting-wholesale",
   "metadata": {},
   "outputs": [
    {
     "data": {
      "text/plain": [
       "(210, 13)"
      ]
     },
     "execution_count": 62,
     "metadata": {},
     "output_type": "execute_result"
    }
   ],
   "source": [
    "Fail = df_comb.loc[df_comb.fail_in_1h ==1]\n",
    "Not_fail = df_comb.loc[df_comb.fail_in_1h==0][:105]\n",
    "new_df = pd.concat([Fail,Not_fail])\n",
    "new_df.shape"
   ]
  },
  {
   "cell_type": "markdown",
   "id": "enormous-aspect",
   "metadata": {},
   "source": [
    "**Analyse the effect of different variables**"
   ]
  },
  {
   "cell_type": "code",
   "execution_count": 63,
   "id": "molecular-swaziland",
   "metadata": {},
   "outputs": [],
   "source": [
    "def hist_(variable):\n",
    "    bins = np.linspace(df_comb[variable].min(), df_comb[variable].max(), 10)\n",
    "    g = sns.FacetGrid(df_comb, col = 'gadget_id', hue = 'fail_in_1h', palette = 'Set1', col_wrap=2)\n",
    "    g.map(plt.hist, variable, bins=bins, ec = 'k')\n",
    "\n",
    "    g.axes[-1].legend() \n",
    "    return(plt.show())"
   ]
  },
  {
   "cell_type": "code",
   "execution_count": 64,
   "id": "dramatic-allah",
   "metadata": {},
   "outputs": [
    {
     "data": {
      "image/png": "[encoded data removed]",
      "text/plain": [
       "<Figure size 432x648 with 6 Axes>"
      ]
     },
     "metadata": {
      "needs_background": "light"
     },
     "output_type": "display_data"
    }
   ],
   "source": [
    "pressure = hist_('pressure')\n",
    "pressure"
   ]
  },
  {
   "cell_type": "markdown",
   "id": "artificial-picture",
   "metadata": {},
   "source": [
    "**Pressure seems to have no influence on failure rate, however different gadgets will be able to deal with different pressures so use a 6h mean**"
   ]
  },
  {
   "cell_type": "code",
   "execution_count": 65,
   "id": "pressing-driving",
   "metadata": {},
   "outputs": [
    {
     "data": {
      "image/png": "[encoded data removed]",
      "text/plain": [
       "<Figure size 432x648 with 6 Axes>"
      ]
     },
     "metadata": {
      "needs_background": "light"
     },
     "output_type": "display_data"
    }
   ],
   "source": [
    "pressure_6h_mean = hist_('pressure_6h_mean')\n",
    "pressure_6h_mean"
   ]
  },
  {
   "cell_type": "code",
   "execution_count": 66,
   "id": "complex-gates",
   "metadata": {},
   "outputs": [
    {
     "data": {
      "image/png": "[encoded data removed]",
      "text/plain": [
       "<Figure size 432x648 with 6 Axes>"
      ]
     },
     "metadata": {
      "needs_background": "light"
     },
     "output_type": "display_data"
    }
   ],
   "source": [
    "temp = hist_('temperature')\n",
    "temp"
   ]
  },
  {
   "cell_type": "markdown",
   "id": "according-coaching",
   "metadata": {},
   "source": [
    "**For the same reason as pressure, do a 6h std for temp**"
   ]
  },
  {
   "cell_type": "code",
   "execution_count": 67,
   "id": "associate-hebrew",
   "metadata": {},
   "outputs": [
    {
     "data": {
      "image/png": "[encoded data removed]",
      "text/plain": [
       "<Figure size 432x648 with 6 Axes>"
      ]
     },
     "metadata": {
      "needs_background": "light"
     },
     "output_type": "display_data"
    }
   ],
   "source": [
    "temperature_6h_std = hist_('temperature_6h_std')\n",
    "temperature_6h_std"
   ]
  },
  {
   "cell_type": "code",
   "execution_count": 68,
   "id": "theoretical-merchandise",
   "metadata": {},
   "outputs": [
    {
     "data": {
      "text/html": [
       "<div>\n",
       "<style scoped>\n",
       "    .dataframe tbody tr th:only-of-type {\n",
       "        vertical-align: middle;\n",
       "    }\n",
       "\n",
       "    .dataframe tbody tr th {\n",
       "        vertical-align: top;\n",
       "    }\n",
       "\n",
       "    .dataframe thead th {\n",
       "        text-align: right;\n",
       "    }\n",
       "</style>\n",
       "<table border=\"1\" class=\"dataframe\">\n",
       "  <thead>\n",
       "    <tr style=\"text-align: right;\">\n",
       "      <th></th>\n",
       "      <th>measurement_time</th>\n",
       "      <th>gadget_id</th>\n",
       "      <th>vibration_x</th>\n",
       "      <th>vibration_y</th>\n",
       "      <th>pressure</th>\n",
       "      <th>temperature</th>\n",
       "      <th>failure_time</th>\n",
       "      <th>time_to_fail</th>\n",
       "      <th>fail_in_1h</th>\n",
       "      <th>temperature_6h_std</th>\n",
       "      <th>pressure_6h_mean</th>\n",
       "    </tr>\n",
       "  </thead>\n",
       "  <tbody>\n",
       "    <tr>\n",
       "      <th>0</th>\n",
       "      <td>2020-07-15 00:00:00.000</td>\n",
       "      <td>1</td>\n",
       "      <td>3</td>\n",
       "      <td>7</td>\n",
       "      <td>16.0</td>\n",
       "      <td>44.114437</td>\n",
       "      <td>2020-07-15 09:56:03.974006640</td>\n",
       "      <td>0 days 09:56:03.974006640</td>\n",
       "      <td>0</td>\n",
       "      <td>NaN</td>\n",
       "      <td>NaN</td>\n",
       "    </tr>\n",
       "    <tr>\n",
       "      <th>7</th>\n",
       "      <td>2020-07-15 01:00:00.000</td>\n",
       "      <td>1</td>\n",
       "      <td>8</td>\n",
       "      <td>3</td>\n",
       "      <td>12.0</td>\n",
       "      <td>34.395177</td>\n",
       "      <td>2020-07-15 09:56:03.974006640</td>\n",
       "      <td>0 days 08:56:03.974006640</td>\n",
       "      <td>0</td>\n",
       "      <td>3.453742</td>\n",
       "      <td>15.500000</td>\n",
       "    </tr>\n",
       "    <tr>\n",
       "      <th>13</th>\n",
       "      <td>2020-07-15 01:59:59.990</td>\n",
       "      <td>1</td>\n",
       "      <td>10</td>\n",
       "      <td>8</td>\n",
       "      <td>20.0</td>\n",
       "      <td>38.280705</td>\n",
       "      <td>2020-07-15 09:56:03.974006640</td>\n",
       "      <td>0 days 07:56:03.984006640</td>\n",
       "      <td>0</td>\n",
       "      <td>3.803752</td>\n",
       "      <td>16.833333</td>\n",
       "    </tr>\n",
       "    <tr>\n",
       "      <th>18</th>\n",
       "      <td>2020-07-15 02:59:59.985</td>\n",
       "      <td>1</td>\n",
       "      <td>6</td>\n",
       "      <td>5</td>\n",
       "      <td>20.0</td>\n",
       "      <td>41.878215</td>\n",
       "      <td>2020-07-15 09:56:03.974006640</td>\n",
       "      <td>0 days 06:56:03.989006640</td>\n",
       "      <td>0</td>\n",
       "      <td>3.679122</td>\n",
       "      <td>15.166667</td>\n",
       "    </tr>\n",
       "    <tr>\n",
       "      <th>25</th>\n",
       "      <td>2020-07-15 03:59:59.980</td>\n",
       "      <td>1</td>\n",
       "      <td>6</td>\n",
       "      <td>9</td>\n",
       "      <td>16.0</td>\n",
       "      <td>39.257268</td>\n",
       "      <td>2020-07-15 09:56:03.974006640</td>\n",
       "      <td>0 days 05:56:03.994006640</td>\n",
       "      <td>0</td>\n",
       "      <td>9.337838</td>\n",
       "      <td>13.000000</td>\n",
       "    </tr>\n",
       "    <tr>\n",
       "      <th>...</th>\n",
       "      <td>...</td>\n",
       "      <td>...</td>\n",
       "      <td>...</td>\n",
       "      <td>...</td>\n",
       "      <td>...</td>\n",
       "      <td>...</td>\n",
       "      <td>...</td>\n",
       "      <td>...</td>\n",
       "      <td>...</td>\n",
       "      <td>...</td>\n",
       "      <td>...</td>\n",
       "    </tr>\n",
       "    <tr>\n",
       "      <th>978</th>\n",
       "      <td>2020-07-21 18:59:59.505</td>\n",
       "      <td>6</td>\n",
       "      <td>6</td>\n",
       "      <td>5</td>\n",
       "      <td>10.0</td>\n",
       "      <td>71.493668</td>\n",
       "      <td>2020-07-21 21:55:15.463450739</td>\n",
       "      <td>0 days 02:55:15.958450739</td>\n",
       "      <td>0</td>\n",
       "      <td>2.523321</td>\n",
       "      <td>14.750000</td>\n",
       "    </tr>\n",
       "    <tr>\n",
       "      <th>989</th>\n",
       "      <td>2020-07-21 19:59:59.505</td>\n",
       "      <td>6</td>\n",
       "      <td>6</td>\n",
       "      <td>4</td>\n",
       "      <td>15.0</td>\n",
       "      <td>68.088351</td>\n",
       "      <td>2020-07-21 21:55:15.463450739</td>\n",
       "      <td>0 days 01:55:15.958450739</td>\n",
       "      <td>0</td>\n",
       "      <td>4.888758</td>\n",
       "      <td>14.750000</td>\n",
       "    </tr>\n",
       "    <tr>\n",
       "      <th>992</th>\n",
       "      <td>2020-07-21 20:59:59.505</td>\n",
       "      <td>6</td>\n",
       "      <td>7</td>\n",
       "      <td>8</td>\n",
       "      <td>11.0</td>\n",
       "      <td>79.375957</td>\n",
       "      <td>2020-07-21 21:55:15.463450739</td>\n",
       "      <td>0 days 00:55:15.958450739</td>\n",
       "      <td>1</td>\n",
       "      <td>3.862833</td>\n",
       "      <td>15.000000</td>\n",
       "    </tr>\n",
       "    <tr>\n",
       "      <th>998</th>\n",
       "      <td>2020-07-21 21:59:59.505</td>\n",
       "      <td>6</td>\n",
       "      <td>6</td>\n",
       "      <td>7</td>\n",
       "      <td>16.0</td>\n",
       "      <td>80.754416</td>\n",
       "      <td>2020-07-21 22:09:51.002875980</td>\n",
       "      <td>0 days 00:09:51.497875980</td>\n",
       "      <td>1</td>\n",
       "      <td>5.541126</td>\n",
       "      <td>14.916667</td>\n",
       "    </tr>\n",
       "    <tr>\n",
       "      <th>1007</th>\n",
       "      <td>2020-07-21 22:59:59.505</td>\n",
       "      <td>6</td>\n",
       "      <td>4</td>\n",
       "      <td>4</td>\n",
       "      <td>19.0</td>\n",
       "      <td>80.604887</td>\n",
       "      <td>NaT</td>\n",
       "      <td>NaT</td>\n",
       "      <td>0</td>\n",
       "      <td>4.835146</td>\n",
       "      <td>13.833333</td>\n",
       "    </tr>\n",
       "  </tbody>\n",
       "</table>\n",
       "<p>1008 rows × 11 columns</p>\n",
       "</div>"
      ],
      "text/plain": [
       "            measurement_time  gadget_id  vibration_x  vibration_y  pressure  \\\n",
       "0    2020-07-15 00:00:00.000          1            3            7      16.0   \n",
       "7    2020-07-15 01:00:00.000          1            8            3      12.0   \n",
       "13   2020-07-15 01:59:59.990          1           10            8      20.0   \n",
       "18   2020-07-15 02:59:59.985          1            6            5      20.0   \n",
       "25   2020-07-15 03:59:59.980          1            6            9      16.0   \n",
       "...                      ...        ...          ...          ...       ...   \n",
       "978  2020-07-21 18:59:59.505          6            6            5      10.0   \n",
       "989  2020-07-21 19:59:59.505          6            6            4      15.0   \n",
       "992  2020-07-21 20:59:59.505          6            7            8      11.0   \n",
       "998  2020-07-21 21:59:59.505          6            6            7      16.0   \n",
       "1007 2020-07-21 22:59:59.505          6            4            4      19.0   \n",
       "\n",
       "      temperature                  failure_time              time_to_fail  \\\n",
       "0       44.114437 2020-07-15 09:56:03.974006640 0 days 09:56:03.974006640   \n",
       "7       34.395177 2020-07-15 09:56:03.974006640 0 days 08:56:03.974006640   \n",
       "13      38.280705 2020-07-15 09:56:03.974006640 0 days 07:56:03.984006640   \n",
       "18      41.878215 2020-07-15 09:56:03.974006640 0 days 06:56:03.989006640   \n",
       "25      39.257268 2020-07-15 09:56:03.974006640 0 days 05:56:03.994006640   \n",
       "...           ...                           ...                       ...   \n",
       "978     71.493668 2020-07-21 21:55:15.463450739 0 days 02:55:15.958450739   \n",
       "989     68.088351 2020-07-21 21:55:15.463450739 0 days 01:55:15.958450739   \n",
       "992     79.375957 2020-07-21 21:55:15.463450739 0 days 00:55:15.958450739   \n",
       "998     80.754416 2020-07-21 22:09:51.002875980 0 days 00:09:51.497875980   \n",
       "1007    80.604887                           NaT                       NaT   \n",
       "\n",
       "      fail_in_1h  temperature_6h_std  pressure_6h_mean  \n",
       "0              0                 NaN               NaN  \n",
       "7              0            3.453742         15.500000  \n",
       "13             0            3.803752         16.833333  \n",
       "18             0            3.679122         15.166667  \n",
       "25             0            9.337838         13.000000  \n",
       "...          ...                 ...               ...  \n",
       "978            0            2.523321         14.750000  \n",
       "989            0            4.888758         14.750000  \n",
       "992            1            3.862833         15.000000  \n",
       "998            1            5.541126         14.916667  \n",
       "1007           0            4.835146         13.833333  \n",
       "\n",
       "[1008 rows x 11 columns]"
      ]
     },
     "execution_count": 68,
     "metadata": {},
     "output_type": "execute_result"
    }
   ],
   "source": [
    "df_comb.drop(['Unnamed: 10','Unnamed: 11'], axis = 1, inplace=True)\n",
    "df_comb"
   ]
  },
  {
   "cell_type": "code",
   "execution_count": 69,
   "id": "prime-phenomenon",
   "metadata": {},
   "outputs": [
    {
     "data": {
      "text/html": [
       "<div>\n",
       "<style scoped>\n",
       "    .dataframe tbody tr th:only-of-type {\n",
       "        vertical-align: middle;\n",
       "    }\n",
       "\n",
       "    .dataframe tbody tr th {\n",
       "        vertical-align: top;\n",
       "    }\n",
       "\n",
       "    .dataframe thead th {\n",
       "        text-align: right;\n",
       "    }\n",
       "</style>\n",
       "<table border=\"1\" class=\"dataframe\">\n",
       "  <thead>\n",
       "    <tr style=\"text-align: right;\">\n",
       "      <th></th>\n",
       "      <th>measurement_time</th>\n",
       "      <th>gadget_id</th>\n",
       "      <th>vibration_x</th>\n",
       "      <th>vibration_y</th>\n",
       "      <th>pressure</th>\n",
       "      <th>temperature</th>\n",
       "      <th>failure_time</th>\n",
       "      <th>time_to_fail</th>\n",
       "      <th>fail_in_1h</th>\n",
       "      <th>temperature_6h_std</th>\n",
       "      <th>pressure_6h_mean</th>\n",
       "    </tr>\n",
       "  </thead>\n",
       "  <tbody>\n",
       "    <tr>\n",
       "      <th>7</th>\n",
       "      <td>2020-07-15 01:00:00.000</td>\n",
       "      <td>1</td>\n",
       "      <td>8</td>\n",
       "      <td>3</td>\n",
       "      <td>12.0</td>\n",
       "      <td>34.395177</td>\n",
       "      <td>2020-07-15 09:56:03.974006640</td>\n",
       "      <td>0 days 08:56:03.974006640</td>\n",
       "      <td>0</td>\n",
       "      <td>3.453742</td>\n",
       "      <td>15.500000</td>\n",
       "    </tr>\n",
       "    <tr>\n",
       "      <th>13</th>\n",
       "      <td>2020-07-15 01:59:59.990</td>\n",
       "      <td>1</td>\n",
       "      <td>10</td>\n",
       "      <td>8</td>\n",
       "      <td>20.0</td>\n",
       "      <td>38.280705</td>\n",
       "      <td>2020-07-15 09:56:03.974006640</td>\n",
       "      <td>0 days 07:56:03.984006640</td>\n",
       "      <td>0</td>\n",
       "      <td>3.803752</td>\n",
       "      <td>16.833333</td>\n",
       "    </tr>\n",
       "    <tr>\n",
       "      <th>18</th>\n",
       "      <td>2020-07-15 02:59:59.985</td>\n",
       "      <td>1</td>\n",
       "      <td>6</td>\n",
       "      <td>5</td>\n",
       "      <td>20.0</td>\n",
       "      <td>41.878215</td>\n",
       "      <td>2020-07-15 09:56:03.974006640</td>\n",
       "      <td>0 days 06:56:03.989006640</td>\n",
       "      <td>0</td>\n",
       "      <td>3.679122</td>\n",
       "      <td>15.166667</td>\n",
       "    </tr>\n",
       "    <tr>\n",
       "      <th>25</th>\n",
       "      <td>2020-07-15 03:59:59.980</td>\n",
       "      <td>1</td>\n",
       "      <td>6</td>\n",
       "      <td>9</td>\n",
       "      <td>16.0</td>\n",
       "      <td>39.257268</td>\n",
       "      <td>2020-07-15 09:56:03.974006640</td>\n",
       "      <td>0 days 05:56:03.994006640</td>\n",
       "      <td>0</td>\n",
       "      <td>9.337838</td>\n",
       "      <td>13.000000</td>\n",
       "    </tr>\n",
       "    <tr>\n",
       "      <th>35</th>\n",
       "      <td>2020-07-15 04:59:59.975</td>\n",
       "      <td>1</td>\n",
       "      <td>2</td>\n",
       "      <td>6</td>\n",
       "      <td>10.0</td>\n",
       "      <td>38.927343</td>\n",
       "      <td>2020-07-15 09:56:03.974006640</td>\n",
       "      <td>0 days 04:56:03.999006640</td>\n",
       "      <td>0</td>\n",
       "      <td>3.253625</td>\n",
       "      <td>15.666667</td>\n",
       "    </tr>\n",
       "    <tr>\n",
       "      <th>...</th>\n",
       "      <td>...</td>\n",
       "      <td>...</td>\n",
       "      <td>...</td>\n",
       "      <td>...</td>\n",
       "      <td>...</td>\n",
       "      <td>...</td>\n",
       "      <td>...</td>\n",
       "      <td>...</td>\n",
       "      <td>...</td>\n",
       "      <td>...</td>\n",
       "      <td>...</td>\n",
       "    </tr>\n",
       "    <tr>\n",
       "      <th>974</th>\n",
       "      <td>2020-07-21 17:59:59.505</td>\n",
       "      <td>6</td>\n",
       "      <td>3</td>\n",
       "      <td>4</td>\n",
       "      <td>12.0</td>\n",
       "      <td>74.444501</td>\n",
       "      <td>2020-07-21 21:55:15.463450739</td>\n",
       "      <td>0 days 03:55:15.958450739</td>\n",
       "      <td>0</td>\n",
       "      <td>3.565896</td>\n",
       "      <td>14.916667</td>\n",
       "    </tr>\n",
       "    <tr>\n",
       "      <th>978</th>\n",
       "      <td>2020-07-21 18:59:59.505</td>\n",
       "      <td>6</td>\n",
       "      <td>6</td>\n",
       "      <td>5</td>\n",
       "      <td>10.0</td>\n",
       "      <td>71.493668</td>\n",
       "      <td>2020-07-21 21:55:15.463450739</td>\n",
       "      <td>0 days 02:55:15.958450739</td>\n",
       "      <td>0</td>\n",
       "      <td>2.523321</td>\n",
       "      <td>14.750000</td>\n",
       "    </tr>\n",
       "    <tr>\n",
       "      <th>989</th>\n",
       "      <td>2020-07-21 19:59:59.505</td>\n",
       "      <td>6</td>\n",
       "      <td>6</td>\n",
       "      <td>4</td>\n",
       "      <td>15.0</td>\n",
       "      <td>68.088351</td>\n",
       "      <td>2020-07-21 21:55:15.463450739</td>\n",
       "      <td>0 days 01:55:15.958450739</td>\n",
       "      <td>0</td>\n",
       "      <td>4.888758</td>\n",
       "      <td>14.750000</td>\n",
       "    </tr>\n",
       "    <tr>\n",
       "      <th>992</th>\n",
       "      <td>2020-07-21 20:59:59.505</td>\n",
       "      <td>6</td>\n",
       "      <td>7</td>\n",
       "      <td>8</td>\n",
       "      <td>11.0</td>\n",
       "      <td>79.375957</td>\n",
       "      <td>2020-07-21 21:55:15.463450739</td>\n",
       "      <td>0 days 00:55:15.958450739</td>\n",
       "      <td>1</td>\n",
       "      <td>3.862833</td>\n",
       "      <td>15.000000</td>\n",
       "    </tr>\n",
       "    <tr>\n",
       "      <th>998</th>\n",
       "      <td>2020-07-21 21:59:59.505</td>\n",
       "      <td>6</td>\n",
       "      <td>6</td>\n",
       "      <td>7</td>\n",
       "      <td>16.0</td>\n",
       "      <td>80.754416</td>\n",
       "      <td>2020-07-21 22:09:51.002875980</td>\n",
       "      <td>0 days 00:09:51.497875980</td>\n",
       "      <td>1</td>\n",
       "      <td>5.541126</td>\n",
       "      <td>14.916667</td>\n",
       "    </tr>\n",
       "  </tbody>\n",
       "</table>\n",
       "<p>888 rows × 11 columns</p>\n",
       "</div>"
      ],
      "text/plain": [
       "           measurement_time  gadget_id  vibration_x  vibration_y  pressure  \\\n",
       "7   2020-07-15 01:00:00.000          1            8            3      12.0   \n",
       "13  2020-07-15 01:59:59.990          1           10            8      20.0   \n",
       "18  2020-07-15 02:59:59.985          1            6            5      20.0   \n",
       "25  2020-07-15 03:59:59.980          1            6            9      16.0   \n",
       "35  2020-07-15 04:59:59.975          1            2            6      10.0   \n",
       "..                      ...        ...          ...          ...       ...   \n",
       "974 2020-07-21 17:59:59.505          6            3            4      12.0   \n",
       "978 2020-07-21 18:59:59.505          6            6            5      10.0   \n",
       "989 2020-07-21 19:59:59.505          6            6            4      15.0   \n",
       "992 2020-07-21 20:59:59.505          6            7            8      11.0   \n",
       "998 2020-07-21 21:59:59.505          6            6            7      16.0   \n",
       "\n",
       "     temperature                  failure_time              time_to_fail  \\\n",
       "7      34.395177 2020-07-15 09:56:03.974006640 0 days 08:56:03.974006640   \n",
       "13     38.280705 2020-07-15 09:56:03.974006640 0 days 07:56:03.984006640   \n",
       "18     41.878215 2020-07-15 09:56:03.974006640 0 days 06:56:03.989006640   \n",
       "25     39.257268 2020-07-15 09:56:03.974006640 0 days 05:56:03.994006640   \n",
       "35     38.927343 2020-07-15 09:56:03.974006640 0 days 04:56:03.999006640   \n",
       "..           ...                           ...                       ...   \n",
       "974    74.444501 2020-07-21 21:55:15.463450739 0 days 03:55:15.958450739   \n",
       "978    71.493668 2020-07-21 21:55:15.463450739 0 days 02:55:15.958450739   \n",
       "989    68.088351 2020-07-21 21:55:15.463450739 0 days 01:55:15.958450739   \n",
       "992    79.375957 2020-07-21 21:55:15.463450739 0 days 00:55:15.958450739   \n",
       "998    80.754416 2020-07-21 22:09:51.002875980 0 days 00:09:51.497875980   \n",
       "\n",
       "     fail_in_1h  temperature_6h_std  pressure_6h_mean  \n",
       "7             0            3.453742         15.500000  \n",
       "13            0            3.803752         16.833333  \n",
       "18            0            3.679122         15.166667  \n",
       "25            0            9.337838         13.000000  \n",
       "35            0            3.253625         15.666667  \n",
       "..          ...                 ...               ...  \n",
       "974           0            3.565896         14.916667  \n",
       "978           0            2.523321         14.750000  \n",
       "989           0            4.888758         14.750000  \n",
       "992           1            3.862833         15.000000  \n",
       "998           1            5.541126         14.916667  \n",
       "\n",
       "[888 rows x 11 columns]"
      ]
     },
     "execution_count": 69,
     "metadata": {},
     "output_type": "execute_result"
    }
   ],
   "source": [
    "df_comb=df_comb.dropna()\n",
    "df_comb"
   ]
  },
  {
   "cell_type": "code",
   "execution_count": 70,
   "id": "bizarre-meter",
   "metadata": {},
   "outputs": [
    {
     "data": {
      "image/png": "[encoded data removed]",
      "text/plain": [
       "<Figure size 432x648 with 6 Axes>"
      ]
     },
     "metadata": {
      "needs_background": "light"
     },
     "output_type": "display_data"
    }
   ],
   "source": [
    "vib_x = hist_('vibration_x')"
   ]
  },
  {
   "cell_type": "code",
   "execution_count": 71,
   "id": "immune-sunday",
   "metadata": {},
   "outputs": [
    {
     "data": {
      "image/png": "[encoded data removed]",
      "text/plain": [
       "<Figure size 432x648 with 6 Axes>"
      ]
     },
     "metadata": {
      "needs_background": "light"
     },
     "output_type": "display_data"
    }
   ],
   "source": [
    "vib_y = hist_('vibration_y')\n",
    "vib_y"
   ]
  },
  {
   "cell_type": "code",
   "execution_count": null,
   "id": "amateur-survey",
   "metadata": {},
   "outputs": [],
   "source": []
  },
  {
   "cell_type": "code",
   "execution_count": 72,
   "id": "binding-revelation",
   "metadata": {},
   "outputs": [
    {
     "data": {
      "text/plain": [
       "0    786\n",
       "1    102\n",
       "Name: fail_in_1h, dtype: int64"
      ]
     },
     "execution_count": 72,
     "metadata": {},
     "output_type": "execute_result"
    }
   ],
   "source": [
    "df_comb.fail_in_1h.value_counts()\n",
    "#imbalanced data set around 1:8"
   ]
  },
  {
   "cell_type": "code",
   "execution_count": 73,
   "id": "decent-resource",
   "metadata": {},
   "outputs": [],
   "source": [
    "X = df_comb[['vibration_y', 'pressure_6h_mean', 'temperature_6h_std']]\n",
    "y = df_comb[['fail_in_1h']]\n"
   ]
  },
  {
   "cell_type": "code",
   "execution_count": 74,
   "id": "wooden-accessory",
   "metadata": {},
   "outputs": [],
   "source": [
    "X= preprocessing.StandardScaler().fit(X).transform(X)"
   ]
  },
  {
   "cell_type": "code",
   "execution_count": 80,
   "id": "continued-spencer",
   "metadata": {},
   "outputs": [],
   "source": [
    "oversample = SMOTE()\n",
    "Xs, ys = oversample.fit_resample(X, y)"
   ]
  },
  {
   "cell_type": "code",
   "execution_count": 86,
   "id": "mechanical-advantage",
   "metadata": {},
   "outputs": [],
   "source": [
    "from sklearn.model_selection import train_test_split\n",
    "def tts(X,y):\n",
    "    X_train, X_test, y_train, y_test = train_test_split(X, y, test_size=0.3, random_state=42)\n",
    "    return (X_train, X_test, y_train, y_test)\n",
    "X_train, X_test, y_train, y_test = tts(X,y)\n",
    "X_train_sm, X_test_sm, y_train_sm, y_test_sm = tts(Xs,ys)"
   ]
  },
  {
   "cell_type": "code",
   "execution_count": 87,
   "id": "consecutive-father",
   "metadata": {},
   "outputs": [
    {
     "name": "stdout",
     "output_type": "stream",
     "text": [
      "(621, 1)\n",
      "(621, 3)\n",
      "(267, 1)\n",
      "(267, 3)\n"
     ]
    }
   ],
   "source": [
    "print(y_train.shape)\n",
    "print(X_train.shape)\n",
    "print (y_test.shape)\n",
    "print (X_test.shape)"
   ]
  },
  {
   "cell_type": "code",
   "execution_count": 88,
   "id": "binary-banana",
   "metadata": {},
   "outputs": [
    {
     "name": "stdout",
     "output_type": "stream",
     "text": [
      "(1100, 1)\n",
      "(1100, 3)\n",
      "(472, 1)\n",
      "(472, 3)\n"
     ]
    }
   ],
   "source": [
    "print(y_train_sm.shape)\n",
    "print(X_train_sm.shape)\n",
    "print (y_test_sm.shape)\n",
    "print (X_test_sm.shape)"
   ]
  },
  {
   "cell_type": "code",
   "execution_count": 91,
   "id": "interesting-gibson",
   "metadata": {},
   "outputs": [],
   "source": [
    "y_t =y_train['fail_in_1h'].to_list()\n",
    "y_tes = y_test['fail_in_1h'].to_list()\n",
    "y_train_sm = y_train_sm['fail_in_1h'].to_list()\n",
    "y_test_sm = y_test_sm['fail_in_1h'].to_list()\n",
    "\n"
   ]
  },
  {
   "cell_type": "code",
   "execution_count": 35,
   "id": "virtual-haiti",
   "metadata": {},
   "outputs": [],
   "source": [
    "from sklearn.metrics import confusion_matrix\n",
    "def con_mat_plot(matrix, classes, type_of_svm):\n",
    "    # matrix = matrix.astype('float')/matrix.sum(axis=1)[:, np.newaxis]\n",
    "    plt.imshow(matrix, interpolation='nearest', cmap=plt.cm.Blues)\n",
    "    plt.title('Confusion Matrix of ' + str(type_of_svm))\n",
    "    plt.colorbar()\n",
    "    ticks = np.arange(len(classes))\n",
    "    plt.xticks(ticks, classes, rotation=50)\n",
    "    plt.yticks(ticks, classes)\n",
    "    threshold = matrix.max()/2.\n",
    "    \n",
    "    for i, j in itertools.product(range(matrix.shape[0]), range(matrix.shape[1])):\n",
    "        plt.text(j, i, format(matrix[i, j], '.2f'), horizontalalignment=\"center\", \n",
    "                 color=\"white\" if matrix[i, j] > threshold else \"black\")\n",
    "    \n",
    "    \n",
    "    plt.tight_layout()\n",
    "    plt.xlabel('Predicted Label')\n",
    "    plt.ylabel('True Label')"
   ]
  },
  {
   "cell_type": "markdown",
   "id": "empirical-warning",
   "metadata": {},
   "source": [
    "**Logistic Regression** "
   ]
  },
  {
   "cell_type": "code",
   "execution_count": 36,
   "id": "fitting-rabbit",
   "metadata": {},
   "outputs": [
    {
     "data": {
      "text/plain": [
       "LogisticRegression(class_weight={0: 1, 1: 8})"
      ]
     },
     "execution_count": 36,
     "metadata": {},
     "output_type": "execute_result"
    }
   ],
   "source": [
    "from sklearn.linear_model import LogisticRegression\n",
    "log_regr = LogisticRegression(class_weight={0:1, 1:8})\n",
    "log_regr.fit(X_train, y_t)\n"
   ]
  },
  {
   "cell_type": "code",
   "execution_count": 37,
   "id": "confidential-listening",
   "metadata": {},
   "outputs": [
    {
     "name": "stdout",
     "output_type": "stream",
     "text": [
      "F1 score for logistic regression:  0.8017884297500956\n"
     ]
    },
    {
     "data": {
      "image/png": "[encoded data removed]",
      "text/plain": [
       "<Figure size 432x288 with 2 Axes>"
      ]
     },
     "metadata": {
      "needs_background": "light"
     },
     "output_type": "display_data"
    }
   ],
   "source": [
    "ans= log_regr.predict(X_test)\n",
    "from sklearn.metrics import f1_score\n",
    "print ('F1 score for logistic regression: ', f1_score(y_tes, ans, average= 'weighted'))\n",
    "\n",
    "matrix = confusion_matrix(y_tes, ans, labels=[0, 1])\n",
    "\n",
    "con_mat_plot(matrix, [0, 1], 'log')"
   ]
  },
  {
   "cell_type": "markdown",
   "id": "outside-blues",
   "metadata": {},
   "source": [
    "**Support Vector Machine**"
   ]
  },
  {
   "cell_type": "code",
   "execution_count": 38,
   "id": "faced-commerce",
   "metadata": {},
   "outputs": [
    {
     "data": {
      "text/plain": [
       "SVC(C=1, class_weight={0: 1, 1: 8}, random_state=42)"
      ]
     },
     "execution_count": 38,
     "metadata": {},
     "output_type": "execute_result"
    }
   ],
   "source": [
    "from sklearn.svm import SVC\n",
    "svm = SVC(class_weight={0:1, 1:8},\n",
    "    C=1,\n",
    "    random_state=42,\n",
    "    kernel='rbf')\n",
    "svm.fit(X_train, y_t)"
   ]
  },
  {
   "cell_type": "code",
   "execution_count": 39,
   "id": "rubber-native",
   "metadata": {},
   "outputs": [
    {
     "name": "stdout",
     "output_type": "stream",
     "text": [
      "F1 score for support vector machine:  0.7751903040714951\n"
     ]
    },
    {
     "data": {
      "image/png": "[encoded data removed]",
      "text/plain": [
       "<Figure size 432x288 with 2 Axes>"
      ]
     },
     "metadata": {
      "needs_background": "light"
     },
     "output_type": "display_data"
    }
   ],
   "source": [
    "ans_svm= svm.predict(X_test)\n",
    "print ('F1 score for support vector machine: ', f1_score(y_tes, ans_svm, average= 'weighted'))\n",
    "\n",
    "matrix = confusion_matrix(y_tes, ans_svm, labels=[0, 1])\n",
    "\n",
    "con_mat_plot(matrix, [0, 1], 'rbf svm')"
   ]
  },
  {
   "cell_type": "code",
   "execution_count": 40,
   "id": "joint-polish",
   "metadata": {},
   "outputs": [
    {
     "data": {
      "text/plain": [
       "SVC(C=1, class_weight={0: 1, 1: 8}, kernel='linear', random_state=42)"
      ]
     },
     "execution_count": 40,
     "metadata": {},
     "output_type": "execute_result"
    }
   ],
   "source": [
    "svm = SVC(class_weight={0:1, 1:8},\n",
    "    C=1,\n",
    "    random_state=42,\n",
    "    kernel='linear')\n",
    "svm.fit(X_train, y_t)"
   ]
  },
  {
   "cell_type": "code",
   "execution_count": 41,
   "id": "checked-mission",
   "metadata": {},
   "outputs": [
    {
     "name": "stdout",
     "output_type": "stream",
     "text": [
      "F1 score for support vector machine:  0.7753646774899084\n"
     ]
    },
    {
     "data": {
      "image/png": "[encoded data removed]",
      "text/plain": [
       "<Figure size 432x288 with 2 Axes>"
      ]
     },
     "metadata": {
      "needs_background": "light"
     },
     "output_type": "display_data"
    }
   ],
   "source": [
    "ans_svm= svm.predict(X_test)\n",
    "print ('F1 score for support vector machine: ', f1_score(y_tes, ans_svm, average= 'weighted'))\n",
    "\n",
    "matrix = confusion_matrix(y_tes, ans_svm, labels=[0, 1])\n",
    "\n",
    "con_mat_plot(matrix, [0, 1], 'Linear svm')"
   ]
  },
  {
   "cell_type": "markdown",
   "id": "occupied-clear",
   "metadata": {},
   "source": [
    "**Decision Tree**"
   ]
  },
  {
   "cell_type": "code",
   "execution_count": 82,
   "id": "opposed-ratio",
   "metadata": {},
   "outputs": [],
   "source": [
    "from sklearn.tree import DecisionTreeClassifier \n",
    "def dec_tree_class(X_train, Y_train, X_test, Y_test):\n",
    "    Drugtree = DecisionTreeClassifier(criterion= 'entropy',max_depth=5)\n",
    "    Drugtree.fit(X_train, Y_train)\n",
    "    ans_tree= Drugtree.predict(X_test)\n",
    "    print('F1 score for Decision Tree: ', f1_score(Y_test, ans_tree, average= 'weighted'))\n",
    "    matrix = confusion_matrix(y_tes, ans_tree, labels=[0, 1])\n",
    "\n",
    "    return(con_mat_plot(matrix, [0, 1], 'Dec Tree'))"
   ]
  },
  {
   "cell_type": "code",
   "execution_count": 83,
   "id": "imposed-smith",
   "metadata": {},
   "outputs": [
    {
     "name": "stdout",
     "output_type": "stream",
     "text": [
      "F1 score for Decision Tree:  0.8258522347914002\n"
     ]
    },
    {
     "data": {
      "image/png": "[encoded data removed]",
      "text/plain": [
       "<Figure size 432x288 with 2 Axes>"
      ]
     },
     "metadata": {
      "needs_background": "light"
     },
     "output_type": "display_data"
    }
   ],
   "source": [
    "DTC = dec_tree_class(X_train, y_t,X_test,y_tes)"
   ]
  },
  {
   "cell_type": "code",
   "execution_count": null,
   "id": "geological-narrow",
   "metadata": {},
   "outputs": [],
   "source": [
    "\n"
   ]
  },
  {
   "cell_type": "code",
   "execution_count": null,
   "id": "spare-interval",
   "metadata": {},
   "outputs": [],
   "source": [
    "\n"
   ]
  },
  {
   "cell_type": "markdown",
   "id": "negative-numbers",
   "metadata": {},
   "source": [
    "**KNN**"
   ]
  },
  {
   "cell_type": "code",
   "execution_count": 45,
   "id": "fewer-universal",
   "metadata": {},
   "outputs": [],
   "source": [
    "from sklearn.neighbors import KNeighborsClassifier\n",
    "from sklearn import metrics"
   ]
  },
  {
   "cell_type": "code",
   "execution_count": 47,
   "id": "powerful-vessel",
   "metadata": {},
   "outputs": [
    {
     "name": "stdout",
     "output_type": "stream",
     "text": [
      "F1 score for KNN with 1 neighbours 0.8295959750845178\n",
      "F1 score for KNN with 2 neighbours 0.841444044479112\n",
      "F1 score for KNN with 3 neighbours 0.8267840580751328\n",
      "F1 score for KNN with 4 neighbours 0.8222954145907597\n",
      "F1 score for KNN with 5 neighbours 0.8129367097384255\n",
      "F1 score for KNN with 6 neighbours 0.8377577948712622\n",
      "F1 score for KNN with 7 neighbours 0.8473843454846337\n",
      "F1 score for KNN with 8 neighbours 0.8199990975136501\n",
      "F1 score for KNN with 9 neighbours 0.8333056872382716\n",
      "F1 score for KNN with 10 neighbours 0.8299991476517807\n",
      "F1 score for KNN with 11 neighbours 0.8258522347914002\n"
     ]
    },
    {
     "data": {
      "image/png": "[encoded data removed]",
      "text/plain": [
       "<Figure size 432x288 with 1 Axes>"
      ]
     },
     "metadata": {
      "needs_background": "light"
     },
     "output_type": "display_data"
    }
   ],
   "source": [
    "# Initialising Variables\n",
    "k_to_try = 12\n",
    "means = np.zeros((k_to_try-1))\n",
    "stds = np.zeros((k_to_try-1))\n",
    "\n",
    "# Fitting KNN Model for each k, saving down the mean and standard deviation of the accuracy\n",
    "for i in range(1, k_to_try):\n",
    "    knn = KNeighborsClassifier(n_neighbors=i).fit(X_train, y_t)\n",
    "    predicted = knn.predict(X_test)\n",
    "    means[i-1]=metrics.accuracy_score(y_tes, predicted)\n",
    "    stds[i-1]=np.std(predicted == y_tes)/np.sqrt(predicted.shape[0])\n",
    "    print ('F1 score for KNN with ' +str(i)+' neighbours', f1_score(y_test, predicted, average= 'weighted'))\n",
    "    \n",
    "# Plotting accuracy along side +/- 1 and 3 stds\n",
    "plt.plot(range(1, k_to_try), means, 'g')\n",
    "plt.fill_between(range(1, k_to_try), means-1*stds, means+1*stds, alpha=0.2)\n",
    "plt.fill_between(range(1, k_to_try), means-3*stds, means+3*stds, alpha=0.2, color=\"blue\")\n",
    "plt.legend(('Accuracy', 'In 1*std', 'In 3*std'))\n",
    "plt.ylabel('Accuracy')\n",
    "plt.xlabel('K')\n",
    "plt.tight_layout()\n",
    "plt.show()"
   ]
  },
  {
   "cell_type": "markdown",
   "id": "confident-truth",
   "metadata": {},
   "source": []
  },
  {
   "cell_type": "code",
   "execution_count": 33,
   "id": "quantitative-subdivision",
   "metadata": {},
   "outputs": [],
   "source": [
    "from keras import models\n",
    "from keras import layers"
   ]
  },
  {
   "cell_type": "code",
   "execution_count": null,
   "id": "attended-green",
   "metadata": {},
   "outputs": [],
   "source": []
  },
  {
   "cell_type": "code",
   "execution_count": 48,
   "id": "educated-spectrum",
   "metadata": {},
   "outputs": [],
   "source": [
    "import numpy as np\n",
    "from keras.datasets import imdb\n",
    "from keras.preprocessing.text import Tokenizer\n",
    "from keras import models\n",
    "from keras import layers\n",
    "from keras import regularizers\n",
    "# Set random seed\n",
    "\n",
    "number_of_features = 3\n",
    "\n",
    "\n",
    "\n",
    "# Start neural network\n",
    "network = models.Sequential()\n",
    "# Add fully connected layer with a ReLU activation function\n",
    "network.add(layers.Dense(units=16, activation=\"relu\", input_dim=3,kernel_regularizer=regularizers.l2(0.1)))\n",
    "# Add fully connected layer with a ReLU activation function\n",
    "network.add(layers.Dense(units=16, activation=\"relu\",kernel_regularizer=regularizers.l2(0.1)))\n",
    "# Add fully connected layer with a sigmoid activation function\n",
    "network.add(layers.Dense(units=1, activation=\"sigmoid\"))\n",
    "# Compile neural network\n",
    "network.compile(loss=\"binary_crossentropy\", # Cross-entropy\n",
    " optimizer=\"rmsprop\", # Root Mean Square Propagation\n",
    " metrics=[\"accuracy\"]) # Accuracy performance metri"
   ]
  },
  {
   "cell_type": "code",
   "execution_count": null,
   "id": "velvet-compression",
   "metadata": {},
   "outputs": [],
   "source": []
  },
  {
   "cell_type": "code",
   "execution_count": 50,
   "id": "integrated-refrigerator",
   "metadata": {},
   "outputs": [],
   "source": [
    "X_train = np.array(X_train)\n",
    "y_t=np.array(y_t)\n",
    "X_test = np.array(X_test)\n",
    "y_tes = np.array(y_tes)"
   ]
  },
  {
   "cell_type": "code",
   "execution_count": 51,
   "id": "attended-given",
   "metadata": {},
   "outputs": [
    {
     "name": "stdout",
     "output_type": "stream",
     "text": [
      "Epoch 1/30\n",
      "20/20 [==============================] - 22s 50ms/step - loss: 2.6258 - accuracy: 0.6815 - val_loss: 2.3433 - val_accuracy: 0.8839\n",
      "Epoch 2/30\n",
      "20/20 [==============================] - 0s 3ms/step - loss: 2.2815 - accuracy: 0.8753 - val_loss: 2.0817 - val_accuracy: 0.8839\n",
      "Epoch 3/30\n",
      "20/20 [==============================] - 0s 2ms/step - loss: 2.0335 - accuracy: 0.8799 - val_loss: 1.8497 - val_accuracy: 0.8839\n",
      "Epoch 4/30\n",
      "20/20 [==============================] - 0s 2ms/step - loss: 1.8061 - accuracy: 0.8851 - val_loss: 1.6425 - val_accuracy: 0.8839\n",
      "Epoch 5/30\n",
      "20/20 [==============================] - 0s 2ms/step - loss: 1.5971 - accuracy: 0.8912 - val_loss: 1.4549 - val_accuracy: 0.8839\n",
      "Epoch 6/30\n",
      "20/20 [==============================] - 0s 4ms/step - loss: 1.4125 - accuracy: 0.8930 - val_loss: 1.2880 - val_accuracy: 0.8839\n",
      "Epoch 7/30\n",
      "20/20 [==============================] - 0s 3ms/step - loss: 1.2419 - accuracy: 0.9011 - val_loss: 1.1396 - val_accuracy: 0.8839\n",
      "Epoch 8/30\n",
      "20/20 [==============================] - 0s 4ms/step - loss: 1.1213 - accuracy: 0.8748 - val_loss: 1.0089 - val_accuracy: 0.8839\n",
      "Epoch 9/30\n",
      "20/20 [==============================] - 0s 3ms/step - loss: 0.9957 - accuracy: 0.8755 - val_loss: 0.8936 - val_accuracy: 0.8839\n",
      "Epoch 10/30\n",
      "20/20 [==============================] - 0s 3ms/step - loss: 0.8667 - accuracy: 0.8914 - val_loss: 0.7939 - val_accuracy: 0.8839\n",
      "Epoch 11/30\n",
      "20/20 [==============================] - 0s 3ms/step - loss: 0.7738 - accuracy: 0.8835 - val_loss: 0.7061 - val_accuracy: 0.8839\n",
      "Epoch 12/30\n",
      "20/20 [==============================] - 0s 3ms/step - loss: 0.7054 - accuracy: 0.8752 - val_loss: 0.6309 - val_accuracy: 0.8839\n",
      "Epoch 13/30\n",
      "20/20 [==============================] - 0s 4ms/step - loss: 0.6147 - accuracy: 0.8862 - val_loss: 0.5676 - val_accuracy: 0.8839\n",
      "Epoch 14/30\n",
      "20/20 [==============================] - 0s 3ms/step - loss: 0.5644 - accuracy: 0.8802 - val_loss: 0.5153 - val_accuracy: 0.8839\n",
      "Epoch 15/30\n",
      "20/20 [==============================] - 0s 2ms/step - loss: 0.5157 - accuracy: 0.8806 - val_loss: 0.4733 - val_accuracy: 0.8839\n",
      "Epoch 16/30\n",
      "20/20 [==============================] - 0s 2ms/step - loss: 0.4586 - accuracy: 0.8901 - val_loss: 0.4398 - val_accuracy: 0.8839\n",
      "Epoch 17/30\n",
      "20/20 [==============================] - 0s 2ms/step - loss: 0.4229 - accuracy: 0.8935 - val_loss: 0.4143 - val_accuracy: 0.8839\n",
      "Epoch 18/30\n",
      "20/20 [==============================] - 0s 2ms/step - loss: 0.4283 - accuracy: 0.8758 - val_loss: 0.3956 - val_accuracy: 0.8839\n",
      "Epoch 19/30\n",
      "20/20 [==============================] - 0s 2ms/step - loss: 0.3904 - accuracy: 0.8876 - val_loss: 0.3818 - val_accuracy: 0.8839\n",
      "Epoch 20/30\n",
      "20/20 [==============================] - 0s 3ms/step - loss: 0.3611 - accuracy: 0.8959 - val_loss: 0.3726 - val_accuracy: 0.8839\n",
      "Epoch 21/30\n",
      "20/20 [==============================] - 0s 4ms/step - loss: 0.3842 - accuracy: 0.8792 - val_loss: 0.3663 - val_accuracy: 0.8839\n",
      "Epoch 22/30\n",
      "20/20 [==============================] - 0s 4ms/step - loss: 0.3693 - accuracy: 0.8835 - val_loss: 0.3622 - val_accuracy: 0.8839\n",
      "Epoch 23/30\n",
      "20/20 [==============================] - 0s 3ms/step - loss: 0.3469 - accuracy: 0.8930 - val_loss: 0.3596 - val_accuracy: 0.8839\n",
      "Epoch 24/30\n",
      "20/20 [==============================] - 0s 4ms/step - loss: 0.3702 - accuracy: 0.8801 - val_loss: 0.3578 - val_accuracy: 0.8839\n",
      "Epoch 25/30\n",
      "20/20 [==============================] - 0s 4ms/step - loss: 0.3354 - accuracy: 0.8971 - val_loss: 0.3565 - val_accuracy: 0.8839\n",
      "Epoch 26/30\n",
      "20/20 [==============================] - 0s 4ms/step - loss: 0.3645 - accuracy: 0.8807 - val_loss: 0.3557 - val_accuracy: 0.8839\n",
      "Epoch 27/30\n",
      "20/20 [==============================] - 0s 4ms/step - loss: 0.3452 - accuracy: 0.8907 - val_loss: 0.3552 - val_accuracy: 0.8839\n",
      "Epoch 28/30\n",
      "20/20 [==============================] - 0s 4ms/step - loss: 0.3506 - accuracy: 0.8870 - val_loss: 0.3549 - val_accuracy: 0.8839\n",
      "Epoch 29/30\n",
      "20/20 [==============================] - 0s 2ms/step - loss: 0.3799 - accuracy: 0.8730 - val_loss: 0.3548 - val_accuracy: 0.8839\n",
      "Epoch 30/30\n",
      "20/20 [==============================] - 0s 3ms/step - loss: 0.3873 - accuracy: 0.8682 - val_loss: 0.3546 - val_accuracy: 0.8839\n"
     ]
    }
   ],
   "source": [
    "history = network.fit(x= X_train,y =  y_t, epochs=30, verbose=1,validation_data = (X_test, y_tes)) # Test data"
   ]
  },
  {
   "cell_type": "code",
   "execution_count": 52,
   "id": "paperback-consent",
   "metadata": {},
   "outputs": [
    {
     "data": {
      "image/png": "[encoded data removed]",
      "text/plain": [
       "<Figure size 432x288 with 1 Axes>"
      ]
     },
     "metadata": {
      "needs_background": "light"
     },
     "output_type": "display_data"
    }
   ],
   "source": [
    "training_accuracy = history.history[\"accuracy\"]\n",
    "test_accuracy = history.history[\"val_accuracy\"]\n",
    "epoch_count = range(1, len(training_accuracy) + 1)\n",
    "plt.plot(epoch_count, training_accuracy, \"r--\")\n",
    "plt.plot(epoch_count, test_accuracy, \"b-\")\n",
    "# Visualize accuracy history\n",
    "plt.legend([\"Training Accuracy\", \"Test Accuracy\"])\n",
    "plt.xlabel(\"Epoch\")\n",
    "plt.ylabel(\"Accuracy Score\")\n",
    "plt.show();"
   ]
  },
  {
   "cell_type": "code",
   "execution_count": null,
   "id": "professional-dimension",
   "metadata": {},
   "outputs": [],
   "source": []
  },
  {
   "cell_type": "code",
   "execution_count": null,
   "id": "typical-affiliation",
   "metadata": {},
   "outputs": [],
   "source": []
  },
  {
   "cell_type": "code",
   "execution_count": null,
   "id": "foreign-villa",
   "metadata": {},
   "outputs": [],
   "source": []
  },
  {
   "cell_type": "code",
   "execution_count": null,
   "id": "municipal-first",
   "metadata": {},
   "outputs": [],
   "source": []
  },
  {
   "cell_type": "code",
   "execution_count": null,
   "id": "superior-debut",
   "metadata": {},
   "outputs": [],
   "source": []
  },
  {
   "cell_type": "code",
   "execution_count": null,
   "id": "dated-boston",
   "metadata": {},
   "outputs": [],
   "source": []
  },
  {
   "cell_type": "code",
   "execution_count": null,
   "id": "prostate-manor",
   "metadata": {},
   "outputs": [],
   "source": []
  },
  {
   "cell_type": "code",
   "execution_count": null,
   "id": "nervous-defensive",
   "metadata": {},
   "outputs": [],
   "source": []
  }
 ],
 "metadata": {
  "kernelspec": {
   "display_name": "Python 3",
   "language": "python",
   "name": "python3"
  },
  "language_info": {
   "codemirror_mode": {
    "name": "ipython",
    "version": 3
   },
   "file_extension": ".py",
   "mimetype": "text/x-python",
   "name": "python",
   "nbconvert_exporter": "python",
   "pygments_lexer": "ipython3",
   "version": "3.9.1"
  }
 },
 "nbformat": 4,
 "nbformat_minor": 5
}
